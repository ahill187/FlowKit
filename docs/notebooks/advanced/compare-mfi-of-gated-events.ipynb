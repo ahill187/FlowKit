{
 "cells": [
  {
   "cell_type": "markdown",
   "metadata": {
    "pycharm": {
     "name": "#%% md\n"
    }
   },
   "source": [
    "# Compare Mean Fluorescence Intensity of Gated Events"
   ]
  },
  {
   "cell_type": "code",
   "execution_count": 1,
   "metadata": {
    "pycharm": {
     "name": "#%%\n"
    }
   },
   "outputs": [],
   "source": [
    "import os\n",
    "import pandas as pd\n",
    "\n",
    "import flowkit as fk\n",
    "\n",
    "%matplotlib inline"
   ]
  },
  {
   "cell_type": "markdown",
   "metadata": {
    "pycharm": {
     "name": "#%% md\n"
    }
   },
   "source": [
    "## Load FlowJo Workspace"
   ]
  },
  {
   "cell_type": "code",
   "execution_count": 2,
   "metadata": {
    "pycharm": {
     "name": "#%%\n"
    }
   },
   "outputs": [],
   "source": [
    "base_dir = \"../../../data/8_color_data_set\"\n",
    "\n",
    "sample_path = os.path.join(base_dir, \"fcs_files\")\n",
    "wsp_path = os.path.join(base_dir, \"8_color_ICS.wsp\")"
   ]
  },
  {
   "cell_type": "code",
   "execution_count": 3,
   "metadata": {
    "pycharm": {
     "name": "#%%\n"
    }
   },
   "outputs": [],
   "source": [
    "workspace = fk.Workspace(wsp_path, fcs_samples=sample_path)"
   ]
  },
  {
   "cell_type": "code",
   "execution_count": 4,
   "metadata": {},
   "outputs": [
    {
     "data": {
      "text/html": [
       "<div>\n",
       "<style scoped>\n",
       "    .dataframe tbody tr th:only-of-type {\n",
       "        vertical-align: middle;\n",
       "    }\n",
       "\n",
       "    .dataframe tbody tr th {\n",
       "        vertical-align: top;\n",
       "    }\n",
       "\n",
       "    .dataframe thead th {\n",
       "        text-align: right;\n",
       "    }\n",
       "</style>\n",
       "<table border=\"1\" class=\"dataframe\">\n",
       "  <thead>\n",
       "    <tr style=\"text-align: right;\">\n",
       "      <th></th>\n",
       "      <th>samples</th>\n",
       "      <th>loaded_samples</th>\n",
       "      <th>gates</th>\n",
       "      <th>max_gate_depth</th>\n",
       "    </tr>\n",
       "    <tr>\n",
       "      <th>group_name</th>\n",
       "      <th></th>\n",
       "      <th></th>\n",
       "      <th></th>\n",
       "      <th></th>\n",
       "    </tr>\n",
       "  </thead>\n",
       "  <tbody>\n",
       "    <tr>\n",
       "      <th>All Samples</th>\n",
       "      <td>3</td>\n",
       "      <td>3</td>\n",
       "      <td>14</td>\n",
       "      <td>6</td>\n",
       "    </tr>\n",
       "    <tr>\n",
       "      <th>DEN</th>\n",
       "      <td>3</td>\n",
       "      <td>3</td>\n",
       "      <td>14</td>\n",
       "      <td>6</td>\n",
       "    </tr>\n",
       "    <tr>\n",
       "      <th>GEN</th>\n",
       "      <td>0</td>\n",
       "      <td>0</td>\n",
       "      <td>0</td>\n",
       "      <td>0</td>\n",
       "    </tr>\n",
       "    <tr>\n",
       "      <th>G69</th>\n",
       "      <td>0</td>\n",
       "      <td>0</td>\n",
       "      <td>0</td>\n",
       "      <td>0</td>\n",
       "    </tr>\n",
       "    <tr>\n",
       "      <th>Lyo Cells</th>\n",
       "      <td>0</td>\n",
       "      <td>0</td>\n",
       "      <td>0</td>\n",
       "      <td>0</td>\n",
       "    </tr>\n",
       "  </tbody>\n",
       "</table>\n",
       "</div>"
      ],
      "text/plain": [
       "             samples  loaded_samples  gates  max_gate_depth\n",
       "group_name                                                 \n",
       "All Samples        3               3     14               6\n",
       "DEN                3               3     14               6\n",
       "GEN                0               0      0               0\n",
       "G69                0               0      0               0\n",
       "Lyo Cells          0               0      0               0"
      ]
     },
     "execution_count": 4,
     "metadata": {},
     "output_type": "execute_result"
    }
   ],
   "source": [
    "workspace.summary()"
   ]
  },
  {
   "cell_type": "code",
   "execution_count": 5,
   "metadata": {
    "pycharm": {
     "name": "#%%\n"
    }
   },
   "outputs": [],
   "source": [
    "sample_ids = workspace.get_sample_ids('DEN')"
   ]
  },
  {
   "cell_type": "code",
   "execution_count": 6,
   "metadata": {},
   "outputs": [
    {
     "data": {
      "text/plain": [
       "['101_DEN084Y5_15_E01_008_clean.fcs',\n",
       " '101_DEN084Y5_15_E03_009_clean.fcs',\n",
       " '101_DEN084Y5_15_E05_010_clean.fcs']"
      ]
     },
     "execution_count": 6,
     "metadata": {},
     "output_type": "execute_result"
    }
   ],
   "source": [
    "sample_ids"
   ]
  },
  {
   "cell_type": "code",
   "execution_count": 7,
   "metadata": {
    "pycharm": {
     "name": "#%%\n"
    }
   },
   "outputs": [],
   "source": [
    "# choose a sample ID\n",
    "sample_id = '101_DEN084Y5_15_E03_009_clean.fcs'\n",
    "sample = workspace.get_sample(sample_id)"
   ]
  },
  {
   "cell_type": "markdown",
   "metadata": {
    "pycharm": {
     "name": "#%% md\n"
    }
   },
   "source": [
    "## Review the gate hierachy"
   ]
  },
  {
   "cell_type": "code",
   "execution_count": 8,
   "metadata": {
    "pycharm": {
     "name": "#%%\n"
    }
   },
   "outputs": [
    {
     "name": "stdout",
     "output_type": "stream",
     "text": [
      "root\n",
      "╰── Time\n",
      "    ╰── Singlets\n",
      "        ╰── aAmine-\n",
      "            ╰── CD3+\n",
      "                ├── CD4+\n",
      "                │   ├── CD107a+\n",
      "                │   ├── IFNg+\n",
      "                │   ├── IL2+\n",
      "                │   ╰── TNFa+\n",
      "                ╰── CD8+\n",
      "                    ├── CD107a+\n",
      "                    ├── IFNg+\n",
      "                    ├── IL2+\n",
      "                    ╰── TNFa+\n"
     ]
    }
   ],
   "source": [
    "print(workspace.get_gate_hierarchy(sample_id, 'ascii'))"
   ]
  },
  {
   "cell_type": "markdown",
   "metadata": {
    "pycharm": {
     "name": "#%% md\n"
    }
   },
   "source": [
    "## Process gates for the sample group"
   ]
  },
  {
   "cell_type": "code",
   "execution_count": 9,
   "metadata": {
    "pycharm": {
     "name": "#%%\n"
    }
   },
   "outputs": [],
   "source": [
    "workspace.analyze_samples(sample_id=sample_id)"
   ]
  },
  {
   "cell_type": "markdown",
   "metadata": {
    "pycharm": {
     "name": "#%% md\n"
    }
   },
   "source": [
    "## Get gated events for a sample"
   ]
  },
  {
   "cell_type": "code",
   "execution_count": 10,
   "metadata": {
    "pycharm": {
     "name": "#%%\n"
    }
   },
   "outputs": [],
   "source": [
    "cd4_gate_name = 'CD4+'\n",
    "cd4_events = workspace.get_gate_events(sample_id, cd4_gate_name)"
   ]
  },
  {
   "cell_type": "code",
   "execution_count": 11,
   "metadata": {},
   "outputs": [
    {
     "data": {
      "text/plain": [
       "(283969, 81855)"
      ]
     },
     "execution_count": 11,
     "metadata": {},
     "output_type": "execute_result"
    }
   ],
   "source": [
    "sample.event_count, cd4_events.shape[0]"
   ]
  },
  {
   "cell_type": "code",
   "execution_count": 12,
   "metadata": {
    "pycharm": {
     "name": "#%%\n"
    }
   },
   "outputs": [
    {
     "data": {
      "text/html": [
       "<div>\n",
       "<style scoped>\n",
       "    .dataframe tbody tr th:only-of-type {\n",
       "        vertical-align: middle;\n",
       "    }\n",
       "\n",
       "    .dataframe tbody tr th {\n",
       "        vertical-align: top;\n",
       "    }\n",
       "\n",
       "    .dataframe thead th {\n",
       "        text-align: right;\n",
       "    }\n",
       "</style>\n",
       "<table border=\"1\" class=\"dataframe\">\n",
       "  <thead>\n",
       "    <tr style=\"text-align: right;\">\n",
       "      <th></th>\n",
       "      <th>sample_id</th>\n",
       "      <th>FSC-A</th>\n",
       "      <th>FSC-H</th>\n",
       "      <th>FSC-W</th>\n",
       "      <th>SSC-A</th>\n",
       "      <th>SSC-H</th>\n",
       "      <th>SSC-W</th>\n",
       "      <th>TNFa FITC FLR-A</th>\n",
       "      <th>CD8 PerCP-Cy55 FLR-A</th>\n",
       "      <th>IL2 BV421 FLR-A</th>\n",
       "      <th>Aqua Amine FLR-A</th>\n",
       "      <th>IFNg APC FLR-A</th>\n",
       "      <th>CD3 APC-H7 FLR-A</th>\n",
       "      <th>CD107a PE FLR-A</th>\n",
       "      <th>CD4 PE-Cy7 FLR-A</th>\n",
       "      <th>Time</th>\n",
       "    </tr>\n",
       "  </thead>\n",
       "  <tbody>\n",
       "    <tr>\n",
       "      <th>1</th>\n",
       "      <td>101_DEN084Y5_15_E03_009_clean.fcs</td>\n",
       "      <td>0.484332</td>\n",
       "      <td>0.397831</td>\n",
       "      <td>0.304358</td>\n",
       "      <td>0.178974</td>\n",
       "      <td>0.165913</td>\n",
       "      <td>0.269681</td>\n",
       "      <td>0.242188</td>\n",
       "      <td>0.230791</td>\n",
       "      <td>0.282167</td>\n",
       "      <td>0.254901</td>\n",
       "      <td>0.244743</td>\n",
       "      <td>0.454572</td>\n",
       "      <td>0.276832</td>\n",
       "      <td>0.610560</td>\n",
       "      <td>0.029446</td>\n",
       "    </tr>\n",
       "    <tr>\n",
       "      <th>6</th>\n",
       "      <td>101_DEN084Y5_15_E03_009_clean.fcs</td>\n",
       "      <td>0.858325</td>\n",
       "      <td>0.713455</td>\n",
       "      <td>0.300763</td>\n",
       "      <td>0.160702</td>\n",
       "      <td>0.149963</td>\n",
       "      <td>0.267902</td>\n",
       "      <td>0.255704</td>\n",
       "      <td>0.297297</td>\n",
       "      <td>0.270034</td>\n",
       "      <td>0.259815</td>\n",
       "      <td>0.232809</td>\n",
       "      <td>0.383849</td>\n",
       "      <td>0.272156</td>\n",
       "      <td>0.476992</td>\n",
       "      <td>0.029638</td>\n",
       "    </tr>\n",
       "    <tr>\n",
       "      <th>7</th>\n",
       "      <td>101_DEN084Y5_15_E03_009_clean.fcs</td>\n",
       "      <td>0.499515</td>\n",
       "      <td>0.389256</td>\n",
       "      <td>0.320814</td>\n",
       "      <td>0.160819</td>\n",
       "      <td>0.148792</td>\n",
       "      <td>0.270207</td>\n",
       "      <td>0.542186</td>\n",
       "      <td>0.298411</td>\n",
       "      <td>0.430466</td>\n",
       "      <td>0.270496</td>\n",
       "      <td>0.720327</td>\n",
       "      <td>0.324062</td>\n",
       "      <td>0.353662</td>\n",
       "      <td>0.604535</td>\n",
       "      <td>0.029652</td>\n",
       "    </tr>\n",
       "    <tr>\n",
       "      <th>9</th>\n",
       "      <td>101_DEN084Y5_15_E03_009_clean.fcs</td>\n",
       "      <td>0.427556</td>\n",
       "      <td>0.346325</td>\n",
       "      <td>0.308638</td>\n",
       "      <td>0.181880</td>\n",
       "      <td>0.169140</td>\n",
       "      <td>0.268832</td>\n",
       "      <td>0.256053</td>\n",
       "      <td>0.305138</td>\n",
       "      <td>0.332638</td>\n",
       "      <td>0.251144</td>\n",
       "      <td>0.226288</td>\n",
       "      <td>0.607199</td>\n",
       "      <td>0.369072</td>\n",
       "      <td>0.423495</td>\n",
       "      <td>0.029680</td>\n",
       "    </tr>\n",
       "    <tr>\n",
       "      <th>16</th>\n",
       "      <td>101_DEN084Y5_15_E03_009_clean.fcs</td>\n",
       "      <td>0.527936</td>\n",
       "      <td>0.415756</td>\n",
       "      <td>0.317456</td>\n",
       "      <td>0.103247</td>\n",
       "      <td>0.096481</td>\n",
       "      <td>0.267532</td>\n",
       "      <td>0.241784</td>\n",
       "      <td>0.235227</td>\n",
       "      <td>0.283300</td>\n",
       "      <td>0.246906</td>\n",
       "      <td>0.251326</td>\n",
       "      <td>0.454224</td>\n",
       "      <td>0.306893</td>\n",
       "      <td>0.487684</td>\n",
       "      <td>0.029858</td>\n",
       "    </tr>\n",
       "  </tbody>\n",
       "</table>\n",
       "</div>"
      ],
      "text/plain": [
       "                            sample_id     FSC-A     FSC-H     FSC-W     SSC-A  \\\n",
       "1   101_DEN084Y5_15_E03_009_clean.fcs  0.484332  0.397831  0.304358  0.178974   \n",
       "6   101_DEN084Y5_15_E03_009_clean.fcs  0.858325  0.713455  0.300763  0.160702   \n",
       "7   101_DEN084Y5_15_E03_009_clean.fcs  0.499515  0.389256  0.320814  0.160819   \n",
       "9   101_DEN084Y5_15_E03_009_clean.fcs  0.427556  0.346325  0.308638  0.181880   \n",
       "16  101_DEN084Y5_15_E03_009_clean.fcs  0.527936  0.415756  0.317456  0.103247   \n",
       "\n",
       "       SSC-H     SSC-W  TNFa FITC FLR-A  CD8 PerCP-Cy55 FLR-A  \\\n",
       "1   0.165913  0.269681         0.242188              0.230791   \n",
       "6   0.149963  0.267902         0.255704              0.297297   \n",
       "7   0.148792  0.270207         0.542186              0.298411   \n",
       "9   0.169140  0.268832         0.256053              0.305138   \n",
       "16  0.096481  0.267532         0.241784              0.235227   \n",
       "\n",
       "    IL2 BV421 FLR-A  Aqua Amine FLR-A  IFNg APC FLR-A  CD3 APC-H7 FLR-A  \\\n",
       "1          0.282167          0.254901        0.244743          0.454572   \n",
       "6          0.270034          0.259815        0.232809          0.383849   \n",
       "7          0.430466          0.270496        0.720327          0.324062   \n",
       "9          0.332638          0.251144        0.226288          0.607199   \n",
       "16         0.283300          0.246906        0.251326          0.454224   \n",
       "\n",
       "    CD107a PE FLR-A  CD4 PE-Cy7 FLR-A      Time  \n",
       "1          0.276832          0.610560  0.029446  \n",
       "6          0.272156          0.476992  0.029638  \n",
       "7          0.353662          0.604535  0.029652  \n",
       "9          0.369072          0.423495  0.029680  \n",
       "16         0.306893          0.487684  0.029858  "
      ]
     },
     "execution_count": 12,
     "metadata": {},
     "output_type": "execute_result"
    }
   ],
   "source": [
    "cd4_events.head(5)"
   ]
  },
  {
   "cell_type": "markdown",
   "metadata": {
    "pycharm": {
     "name": "#%% md\n"
    }
   },
   "source": [
    "## Calculate means for channels of interest"
   ]
  },
  {
   "cell_type": "code",
   "execution_count": 13,
   "metadata": {},
   "outputs": [],
   "source": [
    "fluoro_labels = []\n",
    "for chan_idx in sample.fluoro_indices:\n",
    "    fluoro_labels.append(sample.pnn_labels[chan_idx])"
   ]
  },
  {
   "cell_type": "code",
   "execution_count": 14,
   "metadata": {},
   "outputs": [],
   "source": [
    "cd4_events = cd4_events[fluoro_labels]"
   ]
  },
  {
   "cell_type": "code",
   "execution_count": 15,
   "metadata": {
    "pycharm": {
     "name": "#%%\n"
    }
   },
   "outputs": [],
   "source": [
    "cd4_mfi = cd4_events.mean()"
   ]
  },
  {
   "cell_type": "code",
   "execution_count": 16,
   "metadata": {
    "pycharm": {
     "name": "#%%\n"
    }
   },
   "outputs": [
    {
     "data": {
      "text/plain": [
       "TNFa FITC FLR-A         0.248338\n",
       "CD8 PerCP-Cy55 FLR-A    0.274010\n",
       "IL2 BV421 FLR-A         0.288348\n",
       "Aqua Amine FLR-A        0.250962\n",
       "IFNg APC FLR-A          0.246429\n",
       "CD3 APC-H7 FLR-A        0.488177\n",
       "CD107a PE FLR-A         0.279935\n",
       "CD4 PE-Cy7 FLR-A        0.588879\n",
       "dtype: float64"
      ]
     },
     "execution_count": 16,
     "metadata": {},
     "output_type": "execute_result"
    }
   ],
   "source": [
    "cd4_mfi"
   ]
  },
  {
   "cell_type": "markdown",
   "metadata": {
    "pycharm": {
     "name": "#%% md\n"
    }
   },
   "source": [
    "### Let's compare MFI between CD4+ & CD8+"
   ]
  },
  {
   "cell_type": "code",
   "execution_count": 17,
   "metadata": {
    "pycharm": {
     "name": "#%%\n"
    }
   },
   "outputs": [],
   "source": [
    "cd8_gate_name = 'CD8+'\n",
    "cd8_events = workspace.get_gate_events(sample_id, cd8_gate_name)\n",
    "\n",
    "cd8_mfi = cd8_events[fluoro_labels].mean()"
   ]
  },
  {
   "cell_type": "code",
   "execution_count": 18,
   "metadata": {
    "pycharm": {
     "name": "#%%\n"
    }
   },
   "outputs": [],
   "source": [
    "mfi_comp = pd.DataFrame([cd4_mfi, cd8_mfi], index=[cd4_gate_name, cd8_gate_name])"
   ]
  },
  {
   "cell_type": "code",
   "execution_count": 19,
   "metadata": {
    "pycharm": {
     "name": "#%%\n"
    }
   },
   "outputs": [
    {
     "data": {
      "text/html": [
       "<div>\n",
       "<style scoped>\n",
       "    .dataframe tbody tr th:only-of-type {\n",
       "        vertical-align: middle;\n",
       "    }\n",
       "\n",
       "    .dataframe tbody tr th {\n",
       "        vertical-align: top;\n",
       "    }\n",
       "\n",
       "    .dataframe thead th {\n",
       "        text-align: right;\n",
       "    }\n",
       "</style>\n",
       "<table border=\"1\" class=\"dataframe\">\n",
       "  <thead>\n",
       "    <tr style=\"text-align: right;\">\n",
       "      <th></th>\n",
       "      <th>TNFa FITC FLR-A</th>\n",
       "      <th>CD8 PerCP-Cy55 FLR-A</th>\n",
       "      <th>IL2 BV421 FLR-A</th>\n",
       "      <th>Aqua Amine FLR-A</th>\n",
       "      <th>IFNg APC FLR-A</th>\n",
       "      <th>CD3 APC-H7 FLR-A</th>\n",
       "      <th>CD107a PE FLR-A</th>\n",
       "      <th>CD4 PE-Cy7 FLR-A</th>\n",
       "    </tr>\n",
       "  </thead>\n",
       "  <tbody>\n",
       "    <tr>\n",
       "      <th>CD4+</th>\n",
       "      <td>0.248338</td>\n",
       "      <td>0.274010</td>\n",
       "      <td>0.288348</td>\n",
       "      <td>0.250962</td>\n",
       "      <td>0.246429</td>\n",
       "      <td>0.488177</td>\n",
       "      <td>0.279935</td>\n",
       "      <td>0.588879</td>\n",
       "    </tr>\n",
       "    <tr>\n",
       "      <th>CD8+</th>\n",
       "      <td>0.250975</td>\n",
       "      <td>0.584248</td>\n",
       "      <td>0.283504</td>\n",
       "      <td>0.251208</td>\n",
       "      <td>0.252061</td>\n",
       "      <td>0.459689</td>\n",
       "      <td>0.292997</td>\n",
       "      <td>0.308986</td>\n",
       "    </tr>\n",
       "  </tbody>\n",
       "</table>\n",
       "</div>"
      ],
      "text/plain": [
       "      TNFa FITC FLR-A  CD8 PerCP-Cy55 FLR-A  IL2 BV421 FLR-A  \\\n",
       "CD4+         0.248338              0.274010         0.288348   \n",
       "CD8+         0.250975              0.584248         0.283504   \n",
       "\n",
       "      Aqua Amine FLR-A  IFNg APC FLR-A  CD3 APC-H7 FLR-A  CD107a PE FLR-A  \\\n",
       "CD4+          0.250962        0.246429          0.488177         0.279935   \n",
       "CD8+          0.251208        0.252061          0.459689         0.292997   \n",
       "\n",
       "      CD4 PE-Cy7 FLR-A  \n",
       "CD4+          0.588879  \n",
       "CD8+          0.308986  "
      ]
     },
     "execution_count": 19,
     "metadata": {},
     "output_type": "execute_result"
    }
   ],
   "source": [
    "mfi_comp"
   ]
  },
  {
   "cell_type": "code",
   "execution_count": 20,
   "metadata": {
    "pycharm": {
     "name": "#%%\n"
    }
   },
   "outputs": [],
   "source": [
    "mfi_comp = mfi_comp.transpose()"
   ]
  },
  {
   "cell_type": "code",
   "execution_count": 21,
   "metadata": {
    "pycharm": {
     "name": "#%%\n"
    }
   },
   "outputs": [
    {
     "data": {
      "text/html": [
       "<div>\n",
       "<style scoped>\n",
       "    .dataframe tbody tr th:only-of-type {\n",
       "        vertical-align: middle;\n",
       "    }\n",
       "\n",
       "    .dataframe tbody tr th {\n",
       "        vertical-align: top;\n",
       "    }\n",
       "\n",
       "    .dataframe thead th {\n",
       "        text-align: right;\n",
       "    }\n",
       "</style>\n",
       "<table border=\"1\" class=\"dataframe\">\n",
       "  <thead>\n",
       "    <tr style=\"text-align: right;\">\n",
       "      <th></th>\n",
       "      <th>CD4+</th>\n",
       "      <th>CD8+</th>\n",
       "    </tr>\n",
       "  </thead>\n",
       "  <tbody>\n",
       "    <tr>\n",
       "      <th>TNFa FITC FLR-A</th>\n",
       "      <td>0.248338</td>\n",
       "      <td>0.250975</td>\n",
       "    </tr>\n",
       "    <tr>\n",
       "      <th>CD8 PerCP-Cy55 FLR-A</th>\n",
       "      <td>0.274010</td>\n",
       "      <td>0.584248</td>\n",
       "    </tr>\n",
       "    <tr>\n",
       "      <th>IL2 BV421 FLR-A</th>\n",
       "      <td>0.288348</td>\n",
       "      <td>0.283504</td>\n",
       "    </tr>\n",
       "    <tr>\n",
       "      <th>Aqua Amine FLR-A</th>\n",
       "      <td>0.250962</td>\n",
       "      <td>0.251208</td>\n",
       "    </tr>\n",
       "    <tr>\n",
       "      <th>IFNg APC FLR-A</th>\n",
       "      <td>0.246429</td>\n",
       "      <td>0.252061</td>\n",
       "    </tr>\n",
       "    <tr>\n",
       "      <th>CD3 APC-H7 FLR-A</th>\n",
       "      <td>0.488177</td>\n",
       "      <td>0.459689</td>\n",
       "    </tr>\n",
       "    <tr>\n",
       "      <th>CD107a PE FLR-A</th>\n",
       "      <td>0.279935</td>\n",
       "      <td>0.292997</td>\n",
       "    </tr>\n",
       "    <tr>\n",
       "      <th>CD4 PE-Cy7 FLR-A</th>\n",
       "      <td>0.588879</td>\n",
       "      <td>0.308986</td>\n",
       "    </tr>\n",
       "  </tbody>\n",
       "</table>\n",
       "</div>"
      ],
      "text/plain": [
       "                          CD4+      CD8+\n",
       "TNFa FITC FLR-A       0.248338  0.250975\n",
       "CD8 PerCP-Cy55 FLR-A  0.274010  0.584248\n",
       "IL2 BV421 FLR-A       0.288348  0.283504\n",
       "Aqua Amine FLR-A      0.250962  0.251208\n",
       "IFNg APC FLR-A        0.246429  0.252061\n",
       "CD3 APC-H7 FLR-A      0.488177  0.459689\n",
       "CD107a PE FLR-A       0.279935  0.292997\n",
       "CD4 PE-Cy7 FLR-A      0.588879  0.308986"
      ]
     },
     "execution_count": 21,
     "metadata": {},
     "output_type": "execute_result"
    }
   ],
   "source": [
    "mfi_comp"
   ]
  },
  {
   "cell_type": "code",
   "execution_count": 22,
   "metadata": {
    "pycharm": {
     "name": "#%%\n"
    }
   },
   "outputs": [
    {
     "data": {
      "text/plain": [
       "[]"
      ]
     },
     "execution_count": 22,
     "metadata": {},
     "output_type": "execute_result"
    },
    {
     "data": {
      "image/png": "[encoded data removed]",
      "text/plain": [
       "<Figure size 1200x600 with 1 Axes>"
      ]
     },
     "metadata": {},
     "output_type": "display_data"
    }
   ],
   "source": [
    "ax = mfi_comp.plot.bar(figsize=(12, 6))\n",
    "ax.set_title(\"Mean Fluorescence Intensity - CD4+ vs CD8+\", color='black', fontsize=18)\n",
    "ax.legend(bbox_to_anchor=(1.0, 1.0), fontsize=12)\n",
    "ax.set_xticklabels(ax.get_xticklabels(), rotation=45)\n",
    "ax.plot()"
   ]
  },
  {
   "cell_type": "code",
   "execution_count": null,
   "metadata": {
    "pycharm": {
     "name": "#%%\n"
    }
   },
   "outputs": [],
   "source": []
  }
 ],
 "metadata": {
  "kernelspec": {
   "display_name": "Python 3 (ipykernel)",
   "language": "python",
   "name": "python3"
  },
  "language_info": {
   "codemirror_mode": {
    "name": "ipython",
    "version": 3
   },
   "file_extension": ".py",
   "mimetype": "text/x-python",
   "name": "python",
   "nbconvert_exporter": "python",
   "pygments_lexer": "ipython3",
   "version": "3.10.12"
  },
  "varInspector": {
   "cols": {
    "lenName": 16,
    "lenType": 16,
    "lenVar": 40
   },
   "kernels_config": {
    "python": {
     "delete_cmd_postfix": "",
     "delete_cmd_prefix": "del ",
     "library": "var_list.py",
     "varRefreshCmd": "print(var_dic_list())"
    },
    "r": {
     "delete_cmd_postfix": ") ",
     "delete_cmd_prefix": "rm(",
     "library": "var_list.r",
     "varRefreshCmd": "cat(var_dic_list()) "
    }
   },
   "types_to_exclude": [
    "module",
    "function",
    "builtin_function_or_method",
    "instance",
    "_Feature"
   ],
   "window_display": false
  }
 },
 "nbformat": 4,
 "nbformat_minor": 4
}
